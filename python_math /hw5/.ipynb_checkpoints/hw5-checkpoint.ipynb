{
 "cells": [
  {
   "cell_type": "markdown",
   "metadata": {},
   "source": [
    "# Задание 1\n",
    "Создайте numpy array с элементами от числа N до 0 (например, для N = 10 это будет array([9, 8, 7, 6, 5, 4, 3, 2, 1, 0]))."
   ]
  },
  {
   "cell_type": "code",
   "execution_count": 2,
   "metadata": {},
   "outputs": [
    {
     "name": "stdout",
     "output_type": "stream",
     "text": [
      "[9 8 7 6 5 4 3 2 1 0]\n"
     ]
    }
   ],
   "source": [
    "import numpy as np\n",
    "\n",
    "def createNpArray(n):\n",
    "    return np.arange(0, n)[::-1]\n",
    "\n",
    "\n",
    "print(createNpArray(10))"
   ]
  },
  {
   "cell_type": "markdown",
   "metadata": {},
   "source": [
    "# Задание 2\n",
    "Создайте диагональную матрицу с элементами от N до 0. Посчитайте сумму ее значений на диагонали."
   ]
  },
  {
   "cell_type": "code",
   "execution_count": 3,
   "metadata": {},
   "outputs": [
    {
     "name": "stdout",
     "output_type": "stream",
     "text": [
      "15\n"
     ]
    }
   ],
   "source": [
    "import numpy as np\n",
    "\n",
    "def doDioganalMatrix(n):\n",
    "    return np.diag(np.arange(n), k=0)\n",
    "\n",
    "def getSumOfMatrix(matrix):\n",
    "    sum = 0\n",
    "    for i in range(len(matrix)):\n",
    "        for j in range(len(matrix[i])):\n",
    "            sum += matrix[i][j]\n",
    "    return sum\n",
    "\n",
    "matrix = doDioganalMatrix(6)\n",
    "print(getSumOfMatrix(matrix))"
   ]
  },
  {
   "cell_type": "markdown",
   "metadata": {},
   "source": [
    "# Задание 3                                                                                                       \n",
    "Скачайте с сайта https://grouplens.org/datasets/movielens/ датасет любого размера. Определите какому фильму было\n",
    "выставлено больше всего оценок 5.0.                                                                             "
   ]
  },
  {
   "cell_type": "code",
   "execution_count": 5,
   "metadata": {},
   "outputs": [
    {
     "name": "stdout",
     "output_type": "stream",
     "text": [
      "<class 'pandas.core.frame.DataFrame'>\n",
      "RangeIndex: 100836 entries, 0 to 100835\n",
      "Data columns (total 4 columns):\n",
      "userId       100836 non-null int64\n",
      "movieId      100836 non-null int64\n",
      "rating       100836 non-null float64\n",
      "timestamp    100836 non-null int64\n",
      "dtypes: float64(1), int64(3)\n",
      "memory usage: 3.1 MB\n",
      "None\n",
      "<class 'pandas.core.frame.DataFrame'>\n",
      "RangeIndex: 9742 entries, 0 to 9741\n",
      "Data columns (total 3 columns):\n",
      "movieId    9742 non-null int64\n",
      "title      9742 non-null object\n",
      "genres     9742 non-null object\n",
      "dtypes: int64(1), object(2)\n",
      "memory usage: 228.4+ KB\n",
      "None\n",
      "     movieId                             title\n",
      "277      318  Shawshank Redemption, The (1994)\n"
     ]
    }
   ],
   "source": [
    "import pandas as pd                                                                                 \n",
    "import yaml                                                                                         \n",
    "                                                                                                    \n",
    "yamlConf = \"/Users/mac/Developer/data_sciens/python_math /hw5/conf/path.yaml\"                       \n",
    "                                                                                                    \n",
    "with open(yamlConf) as conf:                                                                        \n",
    "    thisConf = yaml.load(conf)                                                                      \n",
    "                                                                                                    \n",
    "                                                                                                    \n",
    "raiting = pd.read_csv(thisConf['raitings'])                                                         \n",
    "print(raiting.info())                                                                               \n",
    "movies = pd.read_csv(thisConf['movies'])                                                            \n",
    "print(movies.info())                                                                                \n",
    "                                                                                                    \n",
    "def idAndRaitingEquels(poin):                                                                       \n",
    "    temp = raiting.filter(items = ['movieId', 'rating'])                                            \n",
    "    return temp.query('rating =={}'.format(poin))                                                   \n",
    "                                                                                                    \n",
    "def getNameById(id, dataFrame):                                                                     \n",
    "     temp = dataFrame.filter(items = ['movieId', 'title'])                                          \n",
    "     return temp.query('movieId =={}'.format(id))                                                   \n",
    "                                                                                                    \n",
    "idAndRaitingEquelsFive = idAndRaitingEquels(5)                                                      \n",
    "idOfMostPopular = int(str((idAndRaitingEquelsFive['movieId'].value_counts()).head(1)).split(\" \")[0])\n",
    "                                                                                                    \n",
    "print(getNameById(idOfMostPopular, movies))                                                         "
   ]
  },
  {
   "cell_type": "markdown",
   "metadata": {},
   "source": [
    "# Задание 4\n",
    "По данным файла power.csv посчитайте суммарное потребление стран Прибалтики\n",
    "(Латвия, Литва и Эстония) категорий 4, 12 и 21 за период с 2005 по 2010 года.\n",
    "Не учитывайте в расчетах отрицательные значения quantity."
   ]
  },
  {
   "cell_type": "code",
   "execution_count": 6,
   "metadata": {},
   "outputs": [
    {
     "name": "stdout",
     "output_type": "stream",
     "text": [
      "206476.0\n"
     ]
    }
   ],
   "source": [
    "import yaml\n",
    "import pandas as pd\n",
    "\n",
    "yamlConf = \"/Users/mac/Developer/data_sciens/python_math /hw5/conf/path.yaml\"\n",
    "\n",
    "with open(yamlConf) as conf:\n",
    "    thisConf = yaml.load(conf)\n",
    "\n",
    "power = pd.read_csv(thisConf['power'])\n",
    "\n",
    "\n",
    "def getOnlyBaltic(df, countris=['Latvia', 'Lithuania', 'Estonia'], category=[4, 12, 21], start = 2010, finish = 2015):\n",
    "\n",
    "    filter = [getFilter('country', countris),\n",
    "              getFilter('category', category),\n",
    "              'year >= {0} and year <= {1}'.format(start, finish)]\n",
    "    return (df.query(getBigFilter(filter))).query(\"quantity >= 0\")\n",
    "\n",
    "\n",
    "\n",
    "\n",
    "\n",
    "def getFilter(name, args):\n",
    "    temp = '{0}==\"{1}\"'.format(name, args[0])\n",
    "    result = temp\n",
    "    for i in range(1, len(args)):\n",
    "        temp = ' or {0}==\"{1}\"'.format(name, args[i])\n",
    "        result += temp\n",
    "    return result\n",
    "\n",
    "\n",
    "def getBigFilter(filters):\n",
    "    result = '(' + filters[0] + ')'\n",
    "    for i in range(1, len(filters)):\n",
    "        result += ' and (' + filters[i] + ')'\n",
    "    return result\n",
    "\n",
    "\n",
    "print(getOnlyBaltic(power)['quantity'].sum())"
   ]
  },
  {
   "cell_type": "markdown",
   "metadata": {},
   "source": [
    "# Задание 5\n",
    "Решите систему уравнений:\n",
    "4x + 2y + z = 4\n",
    "x + 3y = 12\n",
    "5y + 4z = -3"
   ]
  },
  {
   "cell_type": "code",
   "execution_count": 1,
   "metadata": {},
   "outputs": [
    {
     "name": "stdout",
     "output_type": "stream",
     "text": [
      "[ 0.46666667  3.84444444 -5.55555556]\n"
     ]
    }
   ],
   "source": [
    "import numpy as np\n",
    "\n",
    "\n",
    "cof = [[4, 2, 1], [1, 3, 0], [0, 5, 4]]\n",
    "vector = [4, 12, -3]\n",
    "\n",
    "def equation(cof, vector):\n",
    "    matrix = np.array(cof)\n",
    "    det = np.linalg.det(matrix)\n",
    "    if det == 0:\n",
    "        return\n",
    "\n",
    "    return np.linalg.solve(matrix, vector)\n",
    "\n",
    "\n",
    "print(equation(cof, vector))"
   ]
  }
 ],
 "metadata": {
  "kernelspec": {
   "display_name": "Python 3",
   "language": "python",
   "name": "python3"
  },
  "language_info": {
   "codemirror_mode": {
    "name": "ipython",
    "version": 3
   },
   "file_extension": ".py",
   "mimetype": "text/x-python",
   "name": "python",
   "nbconvert_exporter": "python",
   "pygments_lexer": "ipython3",
   "version": "3.7.0"
  }
 },
 "nbformat": 4,
 "nbformat_minor": 2
}
