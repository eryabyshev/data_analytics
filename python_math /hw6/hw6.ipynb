{
 "cells": [
  {
   "cell_type": "markdown",
   "metadata": {},
   "source": [
    "# Задание 1\n",
    "Используем файл keywords.csv.\n",
    "\n",
    "Необходимо написать гео-классификатор, который каждой строке сможет выставить географическую\n",
    "принадлежность определенному региону. Т. е. если поисковый запрос содержит название города региона,\n",
    "то в столбце 'region' пишется название этого региона. Если поисковый запрос не содержит названия города,\n",
    "то ставим 'undefined'.\n",
    "\n",
    "Правила распределения по регионам Центр, Северо-Запад и Дальний Восток:\n",
    "\n",
    "geo_data = {\n",
    "\n",
    "    'Центр': ['москва', 'тула', 'ярославль'],\n",
    "\n",
    "    'Северо-Запад': ['петербург', 'псков', 'мурманск'],\n",
    "\n",
    "    'Дальний Восток': ['владивосток', 'сахалин', 'хабаровск']\n",
    "\n",
    "}\n"
   ]
  },
  {
   "cell_type": "code",
   "execution_count": 8,
   "metadata": {},
   "outputs": [],
   "source": [
    "import pandas as pd\n",
    "import yaml\n",
    "\n",
    "pathToConfYaml = \"/Users/mac/Developer/data_sciens/python_math /hw6/conf.yaml\"\n",
    "tagInCsv = \"keywords\"\n",
    "\n",
    "with open(pathToConfYaml) as conf:\n",
    "    thisConf = yaml.load(conf)\n",
    "keywords = pd.read_csv(thisConf[tagInCsv])\n",
    "\n",
    "\n",
    "class GeoAnalizator:\n",
    "    def __init__(self):\n",
    "        self.__geo_data = {\n",
    "            'Центр': ['москв', 'тул', 'ярослав'],\n",
    "            'Северо-Запад': ['петербур', 'псков', 'мурманск'],\n",
    "            'Дальний Восток': ['владивосток', 'сахалин', 'хабаровск']\n",
    "        }\n",
    "\n",
    "    def getRegion(self, str, colName = \"keyword\"):\n",
    "        str = str[colName]\n",
    "        for key, value in self.__geo_data.items():\n",
    "            for city in self.__geo_data[key]:\n",
    "                if(city in str):\n",
    "                    return key\n",
    "\n",
    "        return 'undefined'\n",
    "\n",
    "\n",
    "analizator = GeoAnalizator()\n",
    "keywords['region'] = keywords.apply(lambda x: analizator.getRegion(x), axis=1)"
   ]
  },
  {
   "cell_type": "markdown",
   "metadata": {},
   "source": [
    "# Задание 2\n",
    "Напишите функцию, которая классифицирует фильмы из материалов занятия по следующим правилам:\n",
    "    - оценка 2 и меньше - низкий рейтинг\n",
    "    - оценка 4 и меньше - средний рейтинг\n",
    "    - оценка 4.5 и 5 - высокий рейтинг\n",
    "\n",
    "Результат классификации запишите в столбец class"
   ]
  },
  {
   "cell_type": "code",
   "execution_count": 3,
   "metadata": {},
   "outputs": [],
   "source": [
    "import pandas as pd\n",
    "import yaml\n",
    "\n",
    "pathToConfYaml = \"/Users/mac/Developer/data_sciens/python_math /hw6/conf.yaml\"\n",
    "\n",
    "with open(pathToConfYaml) as conf:\n",
    "    thisConf = yaml.load(conf)\n",
    "rating = pd.read_csv(thisConf['ratings'])\n",
    "\n",
    "\n",
    "\n",
    "def getRaiting(rating):\n",
    "    if rating <= 2:\n",
    "        return 'low rating'\n",
    "    elif rating <= 4:\n",
    "        return 'average rating'\n",
    "    else:\n",
    "        return 'high rating'\n",
    "\n",
    "rating['class'] = rating.apply(lambda x: getRaiting(x['rating']), axis=1)\n"
   ]
  },
  {
   "cell_type": "markdown",
   "metadata": {},
   "source": [
    "# Задание 3\n",
    "Посчитайте среднее значение Lifetime киноманов (пользователи, которые поставили 100 и более рейтингов). Под Lifetime\n",
    "понимается разница между максимальным и минимальным значением timestamp для каждого пользователя. Ответ дайте в днях."
   ]
  },
  {
   "cell_type": "code",
   "execution_count": 7,
   "metadata": {},
   "outputs": [],
   "source": [
    "import pandas as pd\n",
    "import yaml\n",
    "\n",
    "pathToConfYaml = \"/Users/mac/Developer/data_sciens/python_math /hw6/conf.yaml\"\n",
    "\n",
    "with open(pathToConfYaml) as conf:\n",
    "    thisConf = yaml.load(conf)\n",
    "rating = pd.read_csv(thisConf['ratings'])\n",
    "\n",
    "\n",
    "def getDaysBetween(start, finish):\n",
    "    day = 24 * 360000\n",
    "    return round((finish - start) / day , 2)\n",
    "\n",
    "ratings_count = rating.groupby('userId').count().reset_index()\n",
    "userIdOver100 = ratings_count[ratings_count['movieId'] > 100]['userId'].tolist()\n",
    "minMaxTime = (rating[rating['userId'].isin(userIdOver100)]).groupby('userId').agg(['min', 'max'])['timestamp']\n",
    "\n",
    "minMaxTime['lifetime'] = minMaxTime.apply(lambda x: getDaysBetween(x['min'], x['max']), axis=1)"
   ]
  },
  {
   "cell_type": "markdown",
   "metadata": {},
   "source": [
    "# Задание 4\n",
    "Есть мнение, что \"раньше снимали настоящее кино, не то что сейчас\". Ваша задача проверить это утверждение, используя файлы с рейтингами фильмов из материалов занятия. Т. е. проверить верно ли, что с ростом года выпуска фильма его средний рейтинг становится ниже.\n",
    "\n",
    "При этом мы не будем затрагивать субьективные факторы выставления этих рейтингов, а пройдемся по следующему алгоритму:\n",
    "\n",
    "1. В переменную years запишите список из всех годов с 1950 по 2010.\n",
    "\n",
    "2. Напишите функцию production_year, которая каждой строке из названия фильма выставляет год выпуска. Не все названия фильмов содержат год выпуска в одинаковом формате, поэтому используйте следующий алгоритм:\n",
    "    - для каждой строки пройдите по всем годам списка years\n",
    "    - если номер года присутствует в названии фильма, то функция возвращает этот год как год выпуска\n",
    "    - если ни один из номеров года списка years не встретился в названии фильма, то возвращается 1900 год\n",
    "\n",
    "3. Запишите год выпуска фильма по алгоритму пункта 2 в новый столбец 'year'\n",
    "\n",
    "4. Посчитайте средний рейтинг всех фильмов для каждого значения столбца 'year' и отсортируйте результат по убыванию рейтинга"
   ]
  },
  {
   "cell_type": "code",
   "execution_count": 6,
   "metadata": {},
   "outputs": [
    {
     "data": {
      "text/plain": [
       "[<matplotlib.lines.Line2D at 0x11de46a90>]"
      ]
     },
     "execution_count": 6,
     "metadata": {},
     "output_type": "execute_result"
    },
    {
     "data": {
      "image/png": "[encoded data removed]",
      "text/plain": [
       "<Figure size 432x288 with 1 Axes>"
      ]
     },
     "metadata": {
      "needs_background": "light"
     },
     "output_type": "display_data"
    }
   ],
   "source": [
    "import pandas as pd\n",
    "import yaml\n",
    "import re\n",
    "import matplotlib.pyplot as plt\n",
    "\n",
    "pathToConfYaml = \"/Users/mac/Developer/data_sciens/python_math /hw6/conf.yaml\"\n",
    "\n",
    "with open(pathToConfYaml) as conf:\n",
    "    thisConf = yaml.load(conf)\n",
    "movies = pd.read_csv(thisConf['movies'])\n",
    "rating = pd.read_csv(thisConf['ratings'])\n",
    "\n",
    "def production_year(str):\n",
    "    match = re.search(r'[(](\\d{4})[)]', str)\n",
    "    return match[0].strip(')').strip('(') if match else '1900'\n",
    "\n",
    "\n",
    "movies['year'] = movies.apply(lambda x: production_year(x['title']), axis=1)\n",
    "\n",
    "totalFrame = rating.merge(movies, on='movieId', how='left').filter(items=['year', 'rating'])\n",
    "yearRatin = totalFrame.groupby('year').mean().reset_index()\n",
    "\n",
    "\n",
    "plt.plot(yearRatin['year'], yearRatin['rating'])\n",
    "\n"
   ]
  }
 ],
 "metadata": {
  "kernelspec": {
   "display_name": "Python 3",
   "language": "python",
   "name": "python3"
  },
  "language_info": {
   "codemirror_mode": {
    "name": "ipython",
    "version": 3
   },
   "file_extension": ".py",
   "mimetype": "text/x-python",
   "name": "python",
   "nbconvert_exporter": "python",
   "pygments_lexer": "ipython3",
   "version": "3.7.0"
  }
 },
 "nbformat": 4,
 "nbformat_minor": 2
}
