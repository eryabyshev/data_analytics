{
 "cells": [
  {
   "cell_type": "markdown",
   "metadata": {},
   "source": [
    "# TMDB"
   ]
  },
  {
   "cell_type": "code",
   "execution_count": null,
   "metadata": {},
   "outputs": [],
   "source": [
    "import pandas as pd\n",
    "import seaborn as sns\n",
    "path = \"/Users/mac/Developer/data_sciens/python_math /hw8/data/tmdb_5000_movies.csv\"\n",
    "\n",
    "filter = ['budget','release_date', 'revenue', 'popularity']\n",
    "df = pd.read_csv(path).filter(items=filter)\n",
    "\n",
    "temp =df.filter(items=filter)\n",
    "df['release_date'] = pd.to_datetime(df[\"release_date\"])\n",
    "groupByYear = df.groupby(df.release_date.dt.year).mean()\n",
    "groupByYear.plot(title='mean value over the years')\n",
    "\n",
    "\n",
    "groupByYear['div'] = groupByYear.apply(lambda x : x['revenue'] - x['budget'], axis=1)\n",
    "groupByYear.reset_index()\n",
    "filter = ['release_date', 'div']\n",
    "div = groupByYear.filter(items=filter)\n",
    "div.plot(title=\"average difference between revenue and revenue\")\n",
    "\n",
    "sns_plot = sns.pairplot(groupByYear[['budget', 'popularity']]).add_legend(title=\"average deviation of budget and popularity\")\n",
    "\n",
    "languages = df.groupby('original_language').count()['budget'].reset_index()\n",
    "data = dict(languages.values)\n",
    "labels = []\n",
    "values = []\n",
    "for key, value in data.items():\n",
    "    labels.append(key)\n",
    "    value.append(value)\n",
    "trace = go.Pie(labels=labels, values=values, title='languages')"
   ]
  },
  {
   "cell_type": "code",
   "execution_count": null,
   "metadata": {},
   "outputs": [],
   "source": []
  }
 ],
 "metadata": {
  "kernelspec": {
   "display_name": "Python 3",
   "language": "python",
   "name": "python3"
  },
  "language_info": {
   "codemirror_mode": {
    "name": "ipython",
    "version": 3
   },
   "file_extension": ".py",
   "mimetype": "text/x-python",
   "name": "python",
   "nbconvert_exporter": "python",
   "pygments_lexer": "ipython3",
   "version": "3.7.0"
  }
 },
 "nbformat": 4,
 "nbformat_minor": 2
}
