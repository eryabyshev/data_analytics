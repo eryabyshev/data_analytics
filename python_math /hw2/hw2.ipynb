{
 "cells": [
  {
   "cell_type": "markdown",
   "metadata": {},
   "source": [
    "# Задание 1"
   ]
  },
  {
   "cell_type": "markdown",
   "metadata": {},
   "source": [
    "Дан список с визитами по городам и странам. Напишите код, который возвращает отфильтрованный список geo_logs,\n",
    "содержащий только визиты из России. Считайте, что список geo_logs легко помещается в оперативной памяти."
   ]
  },
  {
   "cell_type": "code",
   "execution_count": 1,
   "metadata": {},
   "outputs": [
    {
     "name": "stdout",
     "output_type": "stream",
     "text": [
      "[{'visit1': ['Москва', 'Россия']}, {'visit3': ['Владимир', 'Россия']}, {'visit7': ['Тула', 'Россия']}, {'visit8': ['Тула', 'Россия']}, {'visit9': ['Курск', 'Россия']}, {'visit10': ['Архангельск', 'Россия']}]\n"
     ]
    }
   ],
   "source": [
    "geo_logs = [\n",
    "\n",
    "            {'visit1': ['Москва', 'Россия']},\n",
    "\n",
    "            {'visit2': ['Дели', 'Индия']},\n",
    "\n",
    "            {'visit3': ['Владимир', 'Россия']},\n",
    "\n",
    "            {'visit4': ['Лиссабон', 'Португалия']},\n",
    "\n",
    "            {'visit5': ['Париж', 'Франция']},\n",
    "\n",
    "            {'visit6': ['Лиссабон', 'Португалия']},\n",
    "\n",
    "            {'visit7': ['Тула', 'Россия']},\n",
    "\n",
    "            {'visit8': ['Тула', 'Россия']},\n",
    "\n",
    "            {'visit9': ['Курск', 'Россия']},\n",
    "\n",
    "            {'visit10': ['Архангельск', 'Россия']}\n",
    "\n",
    "]\n",
    "\n",
    "def visitsFrpmRussia(geoLog):\n",
    "    result = []\n",
    "\n",
    "    for i in geoLog:\n",
    "        for key in i:\n",
    "            if(\"Россия\" in i[key]):\n",
    "                result.append(i)\n",
    "    return result\n",
    "\n",
    "\n",
    "print(visitsFrpmRussia(geo_logs))"
   ]
  },
  {
   "cell_type": "markdown",
   "metadata": {},
   "source": [
    "# Задание 2"
   ]
  },
  {
   "cell_type": "markdown",
   "metadata": {},
   "source": [
    "Выведите на экран все уникальные гео-ID из значений словаря ids. Т. е. список вида [213, 15, 54, 119, 98, 35]"
   ]
  },
  {
   "cell_type": "code",
   "execution_count": 2,
   "metadata": {},
   "outputs": [
    {
     "name": "stdout",
     "output_type": "stream",
     "text": [
      "[98, 35, 15, 213, 54, 119]\n"
     ]
    }
   ],
   "source": [
    "ids = {'user1': [213, 213, 213, 15, 213], 'user2': [54, 54, 119, 119, 119], 'user3': [213, 98, 98, 35]}\n",
    "\n",
    "\n",
    "def showUniqId(ids):\n",
    "    result = set()\n",
    "    for key in ids:\n",
    "        result = result.union(ids[key])\n",
    "    print(list(result))\n",
    "\n",
    "showUniqId(ids)"
   ]
  },
  {
   "cell_type": "markdown",
   "metadata": {},
   "source": [
    "# Задание 3"
   ]
  },
  {
   "cell_type": "markdown",
   "metadata": {},
   "source": [
    "Список поисковых запросов. Получить распределение количества слов в них. \n",
    "Т. е. поисковых запросов из одного слова 5%, из двух - 7%, из трех - 3% итд."
   ]
  },
  {
   "cell_type": "code",
   "execution_count": 3,
   "metadata": {},
   "outputs": [
    {
     "name": "stdout",
     "output_type": "stream",
     "text": [
      "3 word(s) :  57.14 %\n",
      "2 word(s) :  42.86 %\n"
     ]
    }
   ],
   "source": [
    "map = dict()\n",
    "\n",
    "queries = [\n",
    "\n",
    "    'смотреть сериалы онлайн',\n",
    "\n",
    "    'новости спорта',\n",
    "\n",
    "    'афиша кино',\n",
    "\n",
    "    'курс доллара',\n",
    "\n",
    "    'сериалы этим летом',\n",
    "\n",
    "    'курс по питону',\n",
    "\n",
    "    'сериалы про спорт',\n",
    "\n",
    "]\n",
    "\n",
    "\n",
    "\n",
    "def fillMap(list):\n",
    "    for i in queries:\n",
    "        key = len(i.split(\" \"))\n",
    "        if key in map:\n",
    "            map[key] += 1\n",
    "        else:\n",
    "            map[key] = 1\n",
    "\n",
    "\n",
    "\n",
    "\n",
    "def getWordDistribution(map, listLen):\n",
    "    for key, value in map.items():\n",
    "        print(key, \"word(s) : \", round((value / listLen) * 100, 2), \"%\")\n",
    "\n",
    "fillMap(queries)\n",
    "getWordDistribution(map, len(queries))"
   ]
  },
  {
   "cell_type": "markdown",
   "metadata": {},
   "source": [
    "# Задание 4 *"
   ]
  },
  {
   "cell_type": "markdown",
   "metadata": {},
   "source": [
    "Дана статистика рекламных каналов по объемам продаж. Напишите скрипт, который возвращает название канала с максимальным объемом.\n",
    "\n",
    "Т. е. в данном примере скрипт должен возвращать 'yandex'."
   ]
  },
  {
   "cell_type": "code",
   "execution_count": 4,
   "metadata": {},
   "outputs": [
    {
     "name": "stdout",
     "output_type": "stream",
     "text": [
      "yandex\n"
     ]
    }
   ],
   "source": [
    "stats = {'facebook': 55, 'yandex': 120, 'vk': 115, 'google': 99, 'email': 42, 'ok': 98}\n",
    "\n",
    "def getChamelWithBestIndicator(map):\n",
    "    max = 0\n",
    "    best = str()\n",
    "    for i in stats:\n",
    "        if stats[i] > max:\n",
    "            best = i\n",
    "            max = stats[i]\n",
    "    return best\n",
    "\n",
    "\n",
    "print(getChamelWithBestIndicator(stats))"
   ]
  },
  {
   "cell_type": "markdown",
   "metadata": {},
   "source": [
    "# Задание 5 *"
   ]
  },
  {
   "cell_type": "markdown",
   "metadata": {},
   "source": [
    "Дан поток логов по количеству просмотренных страниц для каждого пользователя. Список отсортирован по ID пользователя. \n",
    "Вам необходимо написать алгоритм, который считает среднее значение просмотров на пользователя. Т. е. надо посчитать \n",
    "отношение суммы всех просмотров к количеству уникальных пользователей. Учтите, что весь список stream не помещается в \n",
    "оперативную память, т. е. его нужно обрабатывать поэлементно в цикле."
   ]
  },
  {
   "cell_type": "code",
   "execution_count": 14,
   "metadata": {},
   "outputs": [
    {
     "name": "stdout",
     "output_type": "stream",
     "text": [
      "user1 5.25\n",
      "user2 7.0\n",
      "user3 7.0\n",
      "user4 10.2\n"
     ]
    }
   ],
   "source": [
    "stream = [\n",
    "\n",
    "    '2018-01-01,user1,3',\n",
    "\n",
    "    '2018-01-07,user1,4',\n",
    "\n",
    "    '2018-03-29,user1,1',\n",
    "\n",
    "    '2018-04-04,user1,13',\n",
    "\n",
    "    '2018-01-05,user2,7',\n",
    "\n",
    "    '2018-06-14,user3,4',\n",
    "\n",
    "    '2018-07-02,user3,10',\n",
    "\n",
    "    '2018-03-21,user4,19',\n",
    "\n",
    "    '2018-03-22,user4,4',\n",
    "\n",
    "    '2018-04-22,user4,8',\n",
    "\n",
    "    '2018-05-03,user4,9',\n",
    "\n",
    "    '2018-05-11,user4,11',\n",
    "\n",
    "]\n",
    "\n",
    "\n",
    "\n",
    "def groupByUser(strem):\n",
    "    result = dict()\n",
    "\n",
    "    for i in stream:\n",
    "        temp = i.split(\",\")\n",
    "        user = temp[1]\n",
    "        point = int(temp[2])\n",
    "        if user in result:\n",
    "            result[user].append(point)\n",
    "        else:\n",
    "            result[user] = [point]\n",
    "    return result\n",
    "\n",
    "\n",
    "def getDistribution(map):\n",
    "    for key, value in map.items():\n",
    "        print(key, round(sum(value) / len(value), 2))\n",
    "\n",
    "getDistribution(groupByUser(stream))"
   ]
  },
  {
   "cell_type": "markdown",
   "metadata": {},
   "source": [
    "# Задание 6 *"
   ]
  },
  {
   "cell_type": "markdown",
   "metadata": {},
   "source": [
    "Дана статистика рекламных кампаний по дням. Напишите алгоритм, который по паре дата-кампания ищет значение численного столбца. Т. е. для даты '2018-01-01' и 'google' нужно получить число 25. Считайте, что все комбинации дата-кампания уникальны, а список stats легко помещается в оперативной памяти."
   ]
  },
  {
   "cell_type": "code",
   "execution_count": 15,
   "metadata": {},
   "outputs": [
    {
     "name": "stdout",
     "output_type": "stream",
     "text": [
      "25\n"
     ]
    }
   ],
   "source": [
    "stats = [\n",
    "\n",
    "    ['2018-01-01', 'google', 25],\n",
    "\n",
    "    ['2018-01-01', 'yandex', 65],\n",
    "\n",
    "    ['2018-01-01', 'market', 89],\n",
    "\n",
    "    ['2018-01-02', 'google', 574],\n",
    "\n",
    "    ['2018-01-02', 'yandex', 249],\n",
    "\n",
    "    ['2018-01-02', 'market', 994],\n",
    "\n",
    "    ['2018-01-03', 'google', 1843],\n",
    "\n",
    "    ['2018-01-03', 'yandex', 1327],\n",
    "\n",
    "    ['2018-01-03', 'market', 1764],\n",
    "\n",
    "]\n",
    "\n",
    "\n",
    "def doMap(stats):\n",
    "    result = {}\n",
    "    for i in stats:\n",
    "        key = (i[0], i[1])\n",
    "        value = int(i[2])\n",
    "        result[key] = value\n",
    "    return result\n",
    "\n",
    "companyStatistic = doMap(stats)\n",
    "\n",
    "print(companyStatistic[('2018-01-01', 'google')])"
   ]
  },
  {
   "cell_type": "markdown",
   "metadata": {},
   "source": [
    "# Бонусный вариант *"
   ]
  },
  {
   "cell_type": "code",
   "execution_count": 16,
   "metadata": {},
   "outputs": [
    {
     "name": "stdout",
     "output_type": "stream",
     "text": [
      "25\n"
     ]
    }
   ],
   "source": [
    "stats = [\n",
    "\n",
    "    ['2018-01-01', 'google', 25],\n",
    "\n",
    "    ['2018-01-01', 'yandex', 65],\n",
    "\n",
    "    ['2018-01-01', 'market', 89],\n",
    "\n",
    "    ['2018-01-02', 'google', 574],\n",
    "\n",
    "    ['2018-01-02', 'yandex', 249],\n",
    "\n",
    "    ['2018-01-02', 'market', 994],\n",
    "\n",
    "    ['2018-01-03', 'google', 1843],\n",
    "\n",
    "    ['2018-01-03', 'yandex', 1327],\n",
    "\n",
    "    ['2018-01-03', 'market', 1764],\n",
    "\n",
    "]\n",
    "\n",
    "def doMapExpendet(stats):\n",
    "    result = {}\n",
    "    for i in stats:\n",
    "        *key, value = i\n",
    "        result[tuple(key)] = value\n",
    "    return result\n",
    "\n",
    "map = doMapExpendet(stats)\n",
    "print(map[('2018-01-01', 'google')])"
   ]
  },
  {
   "cell_type": "code",
   "execution_count": null,
   "metadata": {},
   "outputs": [],
   "source": []
  }
 ],
 "metadata": {
  "kernelspec": {
   "display_name": "Python 3",
   "language": "python",
   "name": "python3"
  },
  "language_info": {
   "codemirror_mode": {
    "name": "ipython",
    "version": 3
   },
   "file_extension": ".py",
   "mimetype": "text/x-python",
   "name": "python",
   "nbconvert_exporter": "python",
   "pygments_lexer": "ipython3",
   "version": "3.7.0"
  }
 },
 "nbformat": 4,
 "nbformat_minor": 2
}
