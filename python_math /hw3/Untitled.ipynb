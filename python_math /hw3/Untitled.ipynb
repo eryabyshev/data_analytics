{
 "cells": [
  {
   "cell_type": "markdown",
   "metadata": {},
   "source": [
    "# Задание 1"
   ]
  },
  {
   "cell_type": "markdown",
   "metadata": {},
   "source": [
    "Дан список вида:\n",
    "data = [\n",
    "    [13, 25, 23, 34],\n",
    "    [45, 32, 44, 47],\n",
    "    [12, 33, 23, 95],\n",
    "    [13, 53, 34, 35],\n",
    "]\n",
    "\n",
    "Напишите функцию, которая возвращает сумму элементов на диагонали. Т. е. 13+32+23+35."
   ]
  },
  {
   "cell_type": "code",
   "execution_count": 1,
   "metadata": {},
   "outputs": [
    {
     "name": "stdout",
     "output_type": "stream",
     "text": [
      "103\n"
     ]
    }
   ],
   "source": [
    "data = [[13, 25, 23, 34], [45, 32, 44, 47], [12, 33, 23, 95], [13, 53, 34, 35]]\n",
    "\n",
    "\n",
    "def isSquare(matrix):\n",
    "    return (len(matrix) == len(matrix[0]))\n",
    "\n",
    "def isRightLine(line, sizeMustBe):\n",
    "    return len(line) == sizeMustBe\n",
    "\n",
    "\n",
    "\n",
    "def diagonalSum(matrix):\n",
    "    size = len(matrix)\n",
    "    sum = 0\n",
    "    if(isSquare(matrix)):\n",
    "        for i in range(size):\n",
    "            if (isRightLine(matrix[i], size) == False):\n",
    "                return\n",
    "            else:\n",
    "                sum += matrix[i][i]\n",
    "        return sum\n",
    "    \n",
    "print(diagonalSum(data))"
   ]
  },
  {
   "cell_type": "markdown",
   "metadata": {},
   "source": [
    "# Задание 2"
   ]
  },
  {
   "cell_type": "markdown",
   "metadata": {},
   "source": [
    "Дан список чисел, часть из которых имеют строковый тип или содержат буквы. Напишите функцию, которая возвращает сумму квадратов элементов, которые могут быть числами.\n",
    "data = [1, '5', 'abc', 20, '2']"
   ]
  },
  {
   "cell_type": "code",
   "execution_count": 2,
   "metadata": {},
   "outputs": [
    {
     "name": "stdout",
     "output_type": "stream",
     "text": [
      "430\n"
     ]
    }
   ],
   "source": [
    "data = [1, '5', 'abc', 20, '2']\n",
    "\n",
    "def isNumber(x):\n",
    "    try:\n",
    "        int(x)\n",
    "    except:\n",
    "        return False\n",
    "    return True\n",
    "\n",
    "\n",
    "def sumSquar(list):\n",
    "    sum = 0\n",
    "    for i in list:\n",
    "        if isNumber(i):\n",
    "            sum += int(i) ** 2\n",
    "    return sum\n",
    "\n",
    "print(sumSquar(data))"
   ]
  },
  {
   "cell_type": "markdown",
   "metadata": {},
   "source": [
    "# Задание 3"
   ]
  },
  {
   "cell_type": "markdown",
   "metadata": {},
   "source": [
    "Напишите функцию, которая возвращает название валюты (поле 'Name') с максимальным значением курса с помощью сервиса https://www.cbr-xml-daily.ru/daily_json.js"
   ]
  },
  {
   "cell_type": "code",
   "execution_count": 4,
   "metadata": {},
   "outputs": [
    {
     "name": "stdout",
     "output_type": "stream",
     "text": [
      "('Китайских юаней', 97.3319)\n"
     ]
    }
   ],
   "source": [
    "import requests\n",
    "def findValue(req, resultMap):\n",
    "    for key, value in req.items():\n",
    "        if(\"Name\" in value and \"Value\" in value):\n",
    "            resultMap[str(value[\"Name\"])] = value[\"Value\"]\n",
    "        else:\n",
    "            findValue(value, resultMap)\n",
    "\n",
    "def findMax(map):\n",
    "    max = 0\n",
    "    result = ()\n",
    "    for key, value in map.items():\n",
    "        if value > max:\n",
    "            max = value\n",
    "            result = key, value\n",
    "    return result\n",
    "\n",
    "\n",
    "def doMaxVlueOfСurrency():\n",
    "    url = 'https://www.cbr-xml-daily.ru/daily_json.js'\n",
    "    req = requests.get(url)\n",
    "    map = {}\n",
    "    findValue(req.json()[\"Valute\"], map)\n",
    "    return findMax(map)\n",
    "\n",
    "\n",
    "print(doMaxVlueOfСurrency())"
   ]
  },
  {
   "cell_type": "markdown",
   "metadata": {},
   "source": [
    "Задание 4\n",
    "\n",
    "Последнее упражнение с занятия\n",
    "1. Добавьте в класс еще один формат, который возвращает название валюты (например, 'Евро').\n",
    "\n",
    "2. Добавьте в класс параметр diff (со значениями True или False), который в случае значения True в методах eur и usd \n",
    "будет возвращать не курс валюты, а изменение по сравнению в прошлым значением."
   ]
  },
  {
   "cell_type": "code",
   "execution_count": 5,
   "metadata": {},
   "outputs": [
    {
     "ename": "ModuleNotFoundError",
     "evalue": "No module named 'basics'",
     "output_type": "error",
     "traceback": [
      "\u001b[0;31m---------------------------------------------------------------------------\u001b[0m",
      "\u001b[0;31mModuleNotFoundError\u001b[0m                       Traceback (most recent call last)",
      "\u001b[0;32m<ipython-input-5-7cf124a6fcad>\u001b[0m in \u001b[0;36m<module>\u001b[0;34m()\u001b[0m\n\u001b[0;32m----> 1\u001b[0;31m \u001b[0;32mfrom\u001b[0m \u001b[0mclasses\u001b[0m \u001b[0;32mimport\u001b[0m \u001b[0;34m*\u001b[0m\u001b[0;34m\u001b[0m\u001b[0m\n\u001b[0m\u001b[1;32m      2\u001b[0m \"\"\"\n\u001b[1;32m      3\u001b[0m \u001b[0mЗадание\u001b[0m \u001b[0;36m4\u001b[0m\u001b[0;34m\u001b[0m\u001b[0m\n\u001b[1;32m      4\u001b[0m \u001b[0;34m\u001b[0m\u001b[0m\n\u001b[1;32m      5\u001b[0m \u001b[0mПоследнее\u001b[0m \u001b[0mупражнение\u001b[0m \u001b[0mс\u001b[0m \u001b[0mзанятия\u001b[0m\u001b[0;34m\u001b[0m\u001b[0m\n",
      "\u001b[0;32m~/Developer/data_sciens/python_math /hw3/classes.py\u001b[0m in \u001b[0;36m<module>\u001b[0;34m()\u001b[0m\n\u001b[0;32m----> 1\u001b[0;31m \u001b[0;32mfrom\u001b[0m \u001b[0mbasics\u001b[0m\u001b[0;34m.\u001b[0m\u001b[0mFunctions_and_libs_3\u001b[0m\u001b[0;34m.\u001b[0m\u001b[0mexchange_lib\u001b[0m\u001b[0;34m.\u001b[0m\u001b[0mexchange\u001b[0m \u001b[0;32mimport\u001b[0m \u001b[0mRate\u001b[0m\u001b[0;34m\u001b[0m\u001b[0m\n\u001b[0m\u001b[1;32m      2\u001b[0m \u001b[0;34m\u001b[0m\u001b[0m\n\u001b[1;32m      3\u001b[0m \u001b[0;34m\u001b[0m\u001b[0m\n\u001b[1;32m      4\u001b[0m \u001b[0;32mclass\u001b[0m \u001b[0mMyRate\u001b[0m\u001b[0;34m(\u001b[0m\u001b[0mRate\u001b[0m\u001b[0;34m)\u001b[0m\u001b[0;34m:\u001b[0m\u001b[0;34m\u001b[0m\u001b[0m\n\u001b[1;32m      5\u001b[0m \u001b[0;34m\u001b[0m\u001b[0m\n",
      "\u001b[0;31mModuleNotFoundError\u001b[0m: No module named 'basics'"
     ]
    }
   ],
   "source": [
    "from classes import *\n",
    "\"\"\"\n",
    "Задание 4\n",
    "\n",
    "Последнее упражнение с занятия\n",
    "1. Добавьте в класс еще один формат, который возвращает название валюты (например, 'Евро').\n",
    "\n",
    "2. Добавьте в класс параметр diff (со значениями True или False), который в случае значения True в методах eur и usd \n",
    "будет возвращать не курс валюты, а изменение по сравнению в прошлым значением.\n",
    "\"\"\"\n",
    "\n",
    "myRate = MyRate(\"name_only\")\n",
    "print(myRate.eur())\n",
    "\n",
    "\n",
    "myRate = MyRate(diff = True)\n",
    "print(myRate.eur())"
   ]
  },
  {
   "cell_type": "markdown",
   "metadata": {},
   "source": [
    "# Задание 5"
   ]
  },
  {
   "cell_type": "markdown",
   "metadata": {},
   "source": [
    "Задание 5\n",
    "Напишите функцию, возвращающую сумму первых n чисел Фибоначчи"
   ]
  },
  {
   "cell_type": "code",
   "execution_count": 6,
   "metadata": {},
   "outputs": [
    {
     "name": "stdout",
     "output_type": "stream",
     "text": [
      "12\n"
     ]
    }
   ],
   "source": [
    "def fib(n):\n",
    "    first = 1\n",
    "    second = 1\n",
    "    sum = 0\n",
    "\n",
    "    for i in range(n - 1):\n",
    "\n",
    "        temp = first + second\n",
    "        first = second\n",
    "        second = temp\n",
    "\n",
    "        sum += first\n",
    "    return sum + 1\n",
    "\n",
    "print(fib(5))"
   ]
  },
  {
   "cell_type": "markdown",
   "metadata": {},
   "source": [
    "# Задание 6"
   ]
  },
  {
   "cell_type": "markdown",
   "metadata": {},
   "source": [
    "Напишите функцию, преобразующую произвольный список вида ['2018-01-01', 'yandex', 'cpc', 100] в словарь\n",
    "{'2018-01-01': {'yandex': {'cpc': 100}}}"
   ]
  },
  {
   "cell_type": "code",
   "execution_count": null,
   "metadata": {},
   "outputs": [],
   "source": []
  }
 ],
 "metadata": {
  "kernelspec": {
   "display_name": "Python 3",
   "language": "python",
   "name": "python3"
  },
  "language_info": {
   "codemirror_mode": {
    "name": "ipython",
    "version": 3
   },
   "file_extension": ".py",
   "mimetype": "text/x-python",
   "name": "python",
   "nbconvert_exporter": "python",
   "pygments_lexer": "ipython3",
   "version": "3.7.0"
  }
 },
 "nbformat": 4,
 "nbformat_minor": 2
}
